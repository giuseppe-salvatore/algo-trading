{
 "metadata": {
  "language_info": {
   "codemirror_mode": {
    "name": "ipython",
    "version": 3
   },
   "file_extension": ".py",
   "mimetype": "text/x-python",
   "name": "python",
   "nbconvert_exporter": "python",
   "pygments_lexer": "ipython3",
   "version": "3.8.2-final"
  },
  "orig_nbformat": 2,
  "kernelspec": {
   "name": "python38264bitede46024b48e443ca4c29bd396baaaee",
   "display_name": "Python 3.8.2 64-bit"
  }
 },
 "nbformat": 4,
 "nbformat_minor": 2,
 "cells": [
  {
   "cell_type": "code",
   "execution_count": 11,
   "metadata": {},
   "outputs": [],
   "source": [
    "import time\n",
    "import json\n",
    "import config\n",
    "import sqlite3\n",
    "import requests\n",
    "import datetime\n",
    "import api_proxy\n",
    "import db_queries\n",
    "import market_data_provider.polygon_proxy as polygon_data"
   ]
  },
  {
   "cell_type": "code",
   "execution_count": 12,
   "metadata": {
    "tags": []
   },
   "outputs": [
    {
     "output_type": "stream",
     "name": "stdout",
     "text": "INFO: Alpaca REST endpoint initialised to trade with paper account\n"
    }
   ],
   "source": [
    "paper_account = api_proxy.TradeApiProxy(\"paper\")\n",
    "assets = paper_account.api.list_assets()"
   ]
  },
  {
   "cell_type": "code",
   "execution_count": 13,
   "metadata": {
    "tags": []
   },
   "outputs": [],
   "source": [
    "def print_all_market_caps(assets):\n",
    "    for asset in assets:\n",
    "        try:\n",
    "            market_cap = polygon_data.get_market_cap(asset.symbol)\n",
    "            if market_cap != None:\n",
    "                print(asset.symbol + \"\\t\" +str(market_cap))\n",
    "        except Exception as e:\n",
    "            print(e)\n"
   ]
  },
  {
   "cell_type": "code",
   "execution_count": 14,
   "metadata": {
    "tags": []
   },
   "outputs": [],
   "source": [
    "def print_financials(symbol):\n",
    "    financials = polygon_data.get_financials(symbol)\n",
    "    print(financials)\n"
   ]
  },
  {
   "cell_type": "code",
   "execution_count": 15,
   "metadata": {
    "tags": []
   },
   "outputs": [
    {
     "output_type": "stream",
     "name": "stdout",
     "text": "{\n    \"types\": {\n        \"CS\": \"Common Stock\",\n        \"ADR\": \"American Depository Receipt\",\n        \"NVDR\": \"Non-Voting Depository Receipt\",\n        \"GDR\": \"Global Depositary Receipt\",\n        \"SDR\": \"Special Drawing Right\",\n        \"CEF\": \"Closed-End Fund\",\n        \"ETP\": \"Exchange Traded Product/Fund\",\n        \"REIT\": \"Real Estate Investment Trust\",\n        \"MLP\": \"Master Limited Partnership\",\n        \"WRT\": \"Equity WRT\",\n        \"PUB\": \"Public\",\n        \"NYRS\": \"New York Registry Shares\",\n        \"UNIT\": \"Unit\",\n        \"RIGHT\": \"Right\",\n        \"TRAK\": \"Tracking stock or targeted stock\",\n        \"LTDP\": \"Limited Partnership\",\n        \"RYLT\": \"Royalty Trust\",\n        \"MF\": \"Mutual Fund\",\n        \"PFD\": \"Preferred Stock\",\n        \"FDR\": \"Foreign Ordinary Shares\",\n        \"OST\": \"Other Security Type\",\n        \"FUND\": \"Fund\",\n        \"SP\": \"Structured Product\",\n        \"SI\": \"Secondary Issue\"\n    },\n    \"indexTypes\": {\n        \"INDEX\": \"Index\",\n        \"ETF\": \"Exchange Traded Fund (ETF)\",\n        \"ETN\": \"Exchange Traded Note (ETN)\",\n        \"ETMF\": \"Exchange Traded Managed Fund (ETMF)\",\n        \"SETTLEMENT\": \"Settlement\",\n        \"SPOT\": \"Spot\",\n        \"SUBPROD\": \"Subordinated product\",\n        \"WC\": \"World Currency\",\n        \"ALPHAINDEX\": \"Alpha Index\"\n    }\n}\n"
    }
   ],
   "source": [
    "def print_company_details(symbol):\n",
    "    details = polygon_data.get_company_details(symbol)\n",
    "    print(json.dumps(details, indent=4))\n",
    "#print_company_details(\"BRK.B\")\n",
    "\n",
    "results = polygon_data.get_ticker_types()\n",
    "print(json.dumps(results,indent=4))\n",
    "\n",
    "# results = polygon_data.get_all_supported_tickers()\n",
    "# len(results)"
   ]
  },
  {
   "cell_type": "code",
   "execution_count": null,
   "metadata": {},
   "outputs": [],
   "source": []
  }
 ]
}