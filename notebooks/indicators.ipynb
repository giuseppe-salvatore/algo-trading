{
 "metadata": {
  "language_info": {
   "codemirror_mode": {
    "name": "ipython",
    "version": 3
   },
   "file_extension": ".py",
   "mimetype": "text/x-python",
   "name": "python",
   "nbconvert_exporter": "python",
   "pygments_lexer": "ipython3",
   "version": "3.8.5-final"
  },
  "orig_nbformat": 2,
  "kernelspec": {
   "name": "Python 3.8.5 64-bit ('.venv')",
   "display_name": "Python 3.8.5 64-bit ('.venv')",
   "metadata": {
    "interpreter": {
     "hash": "eb5f83723cbce03d0ed2a5570b3bf39614c0504252fe3aa1f937a8b6a04903ab"
    }
   }
  }
 },
 "nbformat": 4,
 "nbformat_minor": 2,
 "cells": [
  {
   "cell_type": "code",
   "execution_count": null,
   "metadata": {},
   "outputs": [],
   "source": [
    "import datetime\n",
    "import pandas as pd \n",
    "import matplotlib.pyplot as plt\n",
    "import pandas_datareader.data as web\n",
    "\n",
    "# This is needed to be able to import the libraries from the top level of the project\n",
    "module_path = os.path.abspath(os.path.join('..'))\n",
    "if module_path not in sys.path:\n",
    "    sys.path.append(module_path)\n",
    "\n",
    "from lib.indicators.macd import MACD\n",
    "from lib.indicators.rsi import RelativeStrenghtIndex"
   ]
  },
  {
   "cell_type": "code",
   "execution_count": null,
   "metadata": {},
   "outputs": [],
   "source": [
    "# Importing the data \n",
    "# Dates\n",
    "start = '2018-12-01'\n",
    "end = datetime.datetime.now()\n",
    "\n",
    "# Get data\n",
    "stock = 'MSFT'\n",
    "data = web.DataReader(stock, 'yahoo', start, end)\n",
    "data\n"
   ]
  },
  {
   "cell_type": "code",
   "execution_count": null,
   "metadata": {},
   "outputs": [],
   "source": [
    "data.columns"
   ]
  },
  {
   "cell_type": "code",
   "execution_count": null,
   "metadata": {},
   "outputs": [],
   "source": [
    "type(data)"
   ]
  },
  {
   "cell_type": "code",
   "execution_count": null,
   "metadata": {},
   "outputs": [],
   "source": [
    "macd_indicator = MACD()\n",
    "macd_indicator.params[\"source\"] = \"Close\"\n",
    "macd_lines = macd_indicator.calculate(data)\n",
    "macd_lines"
   ]
  },
  {
   "cell_type": "code",
   "execution_count": null,
   "metadata": {},
   "outputs": [],
   "source": [
    "from lib.indicators.bollinger_bands import BollingerBands\n",
    "\n",
    "bb_indicator = BollingerBands()\n",
    "bb_indicator.params[\"source\"] = \"Close\"\n",
    "bb = bb_indicator.calculate(data)\n",
    "plt.figure(figsize=(25,10))\n",
    "\n",
    "data[\"Close\"].rolling(window=1).mean().plot(x='Date', kind='line')\n",
    "data[\"Close\"].rolling(window=20).mean().plot(x='Date', kind='line')\n",
    "# data[\"Close\"].rolling(window=20).std().rolling(window=10).mean().plot(x='Date', kind='line', color=\"black\")\n",
    "super_mean = ((data[\"Close\"].rolling(window=20).mean() + data[\"Close\"].rolling(window=20).std()))\n",
    "# (data[\"Close\"].rolling(window=20).mean() + data[\"Close\"].rolling(window=20).std()).plot()\n",
    "# (data[\"Close\"].rolling(window=20).mean() - data[\"Close\"].rolling(window=20).std()).plot()\n",
    "super_mean.plot()\n",
    "\n",
    "\n",
    "#bb[\"bb_up\"].plot(x='Date', kind='line')\n",
    "#bb[\"bb_down\"].plot(x='Date', kind='line')\n",
    "#bb[\"bb_mean\"].plot(x='Date', kind='line')\n",
    "\n",
    "plt.legend(['close price','up','down', 'mean'])\n",
    "plt.grid()\n",
    "plt.show()"
   ]
  },
  {
   "cell_type": "code",
   "execution_count": null,
   "metadata": {},
   "outputs": [],
   "source": [
    "# (fig, ax) = plt.subplots()\n",
    " \n",
    "# ax.set_xlabel('Date')\n",
    "# ax.set_ylabel('Price ($)')\n",
    "\n",
    "plt.figure(figsize=(25,4))\n",
    "ax = macd_lines[\"histogram\"].plot(x='Date', kind='line')\n",
    "macd_lines[\"signal\"].plot(ax=ax, x='Date', kind='line')\n",
    "macd_lines[\"macd\"].plot(ax=ax, kind='line', x='Date')\n",
    "\n",
    "\n",
    "plt.legend(['signal', 'macd',\"histogram\"])\n",
    "plt.grid()\n",
    "plt.show()"
   ]
  },
  {
   "cell_type": "code",
   "execution_count": null,
   "metadata": {},
   "outputs": [],
   "source": [
    "rsi_indicator = RelativeStrenghtIndex()\n",
    "rsi_indicator.params[\"source\"] = \"Close\"\n",
    "rsi_df = rsi_indicator.calculate(data)\n",
    "\n",
    "plt.clf()\n",
    "plt.figure(figsize=(25,4))\n",
    "ax = rsi_df.plot(x='Date', kind='line')\n",
    "\n",
    "plt.legend(['rsi', 'macd',\"histogram\"])\n",
    "plt.grid()\n",
    "plt.show()"
   ]
  },
  {
   "cell_type": "code",
   "execution_count": null,
   "metadata": {},
   "outputs": [],
   "source": [
    "plt.clf()\n",
    "plt.figure(figsize=(25,10))\n",
    "data[\"Close\"].plot(x='Date', kind='line')\n",
    "ma1 = data[\"Close\"].rolling(7).mean() \n",
    "ma2 = data[\"Close\"].rolling(25).mean()\n",
    "ma1.plot(x='Date', kind='line')\n",
    "ma2.plot(x='Date', kind='line')\n",
    "plt.legend(['close price','up','down'])\n",
    "plt.grid()\n",
    "plt.show()"
   ]
  },
  {
   "cell_type": "code",
   "execution_count": null,
   "metadata": {},
   "outputs": [],
   "source": []
  }
 ]
}