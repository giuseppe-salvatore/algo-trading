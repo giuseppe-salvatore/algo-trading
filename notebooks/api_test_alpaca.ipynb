{
 "metadata": {
  "language_info": {
   "codemirror_mode": {
    "name": "ipython",
    "version": 3
   },
   "file_extension": ".py",
   "mimetype": "text/x-python",
   "name": "python",
   "nbconvert_exporter": "python",
   "pygments_lexer": "ipython3",
   "version": "3.8.2-final"
  },
  "orig_nbformat": 2,
  "kernelspec": {
   "name": "python38264bitede46024b48e443ca4c29bd396baaaee",
   "display_name": "Python 3.8.2 64-bit"
  }
 },
 "nbformat": 4,
 "nbformat_minor": 2,
 "cells": [
  {
   "cell_type": "code",
   "execution_count": null,
   "metadata": {},
   "outputs": [],
   "source": [
    "import time\n",
    "import json\n",
    "import config\n",
    "import sqlite3\n",
    "import requests\n",
    "import datetime\n",
    "import api_proxy\n",
    "import db_queries\n",
    "import market_data_provider.polygon_proxy as polygon_data"
   ]
  },
  {
   "cell_type": "code",
   "execution_count": null,
   "metadata": {
    "tags": []
   },
   "outputs": [],
   "source": [
    "paper_account = api_proxy.TradeApiProxy(\"paper\")\n",
    "assets = paper_account.api.list_assets()"
   ]
  },
  {
   "cell_type": "code",
   "execution_count": null,
   "metadata": {
    "tags": []
   },
   "outputs": [],
   "source": [
    "def print_all_market_caps(assets):\n",
    "    for asset in assets:\n",
    "        try:\n",
    "            market_cap = polygon_data.get_market_cap(asset.symbol)\n",
    "            if market_cap != None:\n",
    "                print(asset.symbol + \"\\t\" +str(market_cap))\n",
    "        except Exception as e:\n",
    "            print(e)\n"
   ]
  },
  {
   "cell_type": "code",
   "execution_count": null,
   "metadata": {
    "tags": []
   },
   "outputs": [],
   "source": [
    "def print_financials(symbol):\n",
    "    financials = polygon_data.get_financials(symbol)\n",
    "    print(financials)\n"
   ]
  },
  {
   "cell_type": "code",
   "execution_count": null,
   "metadata": {
    "tags": []
   },
   "outputs": [],
   "source": [
    "def print_company_details(symbol):\n",
    "    details = polygon_data.get_company_details(symbol)\n",
    "    print(json.dumps(details, indent=4))\n",
    "#print_company_details(\"BRK.B\")\n",
    "\n",
    "results = polygon_data.get_ticker_types()\n",
    "print(json.dumps(results,indent=4))\n",
    "\n",
    "# results = polygon_data.get_all_supported_tickers()\n",
    "# len(results)"
   ]
  },
  {
   "cell_type": "code",
   "execution_count": null,
   "metadata": {},
   "outputs": [],
   "source": []
  }
 ]
}