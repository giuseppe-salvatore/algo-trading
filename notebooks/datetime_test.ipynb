{
 "metadata": {
  "language_info": {
   "codemirror_mode": {
    "name": "ipython",
    "version": 3
   },
   "file_extension": ".py",
   "mimetype": "text/x-python",
   "name": "python",
   "nbconvert_exporter": "python",
   "pygments_lexer": "ipython3",
   "version": "3.8.5-final"
  },
  "orig_nbformat": 2,
  "kernelspec": {
   "name": "Python 3.8.5 64-bit ('.venv')",
   "display_name": "Python 3.8.5 64-bit ('.venv')",
   "metadata": {
    "interpreter": {
     "hash": "eb5f83723cbce03d0ed2a5570b3bf39614c0504252fe3aa1f937a8b6a04903ab"
    }
   }
  }
 },
 "nbformat": 4,
 "nbformat_minor": 2,
 "cells": [
  {
   "cell_type": "code",
   "execution_count": null,
   "metadata": {},
   "outputs": [],
   "source": [
    "import datetime\n",
    "import pandas_market_calendars as mcal\n",
    "\n",
    "nyse = mcal.get_calendar('NYSE')\n",
    "time_from = '2020-05-08'\n",
    "time_to = '2020-08-26'\n",
    "nyse_dates = nyse.schedule(start_date=time_from, end_date=time_to)\n",
    "\n",
    "dt = datetime.datetime.strptime('2020-05-26','%Y-%m-%d')\n",
    "print(dt.date())\n",
    "\n",
    "if dt.date() in nyse_dates.index.date:\n",
    "    print(\"Yeahh\")"
   ]
  },
  {
   "cell_type": "code",
   "execution_count": null,
   "metadata": {},
   "outputs": [],
   "source": []
  }
 ]
}